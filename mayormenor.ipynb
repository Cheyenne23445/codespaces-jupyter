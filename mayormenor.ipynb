{
 "cells": [
  {
   "cell_type": "code",
   "execution_count": null,
   "metadata": {},
   "outputs": [],
   "source": [
    "Numero1 = float (input(\"Escribe un numero al azar\"))    \n",
    "Numero2 = float(input(\"Escribe un numero al azar\"))\n",
    "if Numero1\n"
   ]
  }
 ],
 "metadata": {
  "language_info": {
   "name": "python"
  }
 },
 "nbformat": 4,
 "nbformat_minor": 2
}
