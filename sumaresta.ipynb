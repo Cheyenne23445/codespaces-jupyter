{
 "cells": [
  {
   "cell_type": "code",
   "execution_count": null,
   "metadata": {},
   "outputs": [
  {
    "name": "stdout"
    "output_type": "stream",
    "text": [
     "False\n",
     "4200.0\n"
   ]
  }
 ],
   "source": [
    "Numero1 = float (input(\"Escribe un numero al azar\"))    \n",
    "Numero2 = float(input(\"Escribe un numero al azar\"))\n",
    "if Numero1\n"
   ]
  }
 ],