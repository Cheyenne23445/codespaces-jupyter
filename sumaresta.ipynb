{
 "cells": [
  {
   "cell_type": "code",
   "execution_count": null,
   "metadata": {},
   "outputs": [
  {
    "name": "stdout"
    "output_type": "stream",
    "text": [
     "False\n",
     "4200.0\n"
   ]
  }
 ],
